{
 "cells": [
  {
   "cell_type": "code",
   "execution_count": null,
   "id": "1ea3cdd2",
   "metadata": {},
   "outputs": [],
   "source": [
    "# You are given an array A  of size N  that contains integers. Here,  is an even number. \n",
    "# You are required to perform the following operations:\n",
    "\n",
    "# Divide the array of numbers in two equal halves\n",
    "# Note: Here, two equal parts of a test case are created by dividing the array into two equal parts.\n",
    "# Take the first digit of the numbers that are available in the first half of the array (first 50% of the test case)\n",
    "# Take the last digit of the numbers that are available in the second half of the array (second 50% of the test case)\n",
    "# Generate a number by using the digits that have been selected in the above steps\n",
    "# Your task is to determine whether the newly-generated number is divisible by 11.\n",
    "\n",
    "# Input format\n",
    "# First line: A single integer N denoting the size of array A \n",
    "# Second line: N space-separated integers denoting the elements of array A \n",
    "# Output format\n",
    "# If the newly-generated number is divisible by 11 , then print OUI . Otherwise, print NON ."
   ]
  },
  {
   "cell_type": "code",
   "execution_count": 1,
   "id": "d1b2ed4f",
   "metadata": {},
   "outputs": [
    {
     "name": "stdout",
     "output_type": "stream",
     "text": [
      "121\n",
      "229\n",
      "Yes First half is devisible by 11:\n",
      "No Second half is devisible by 11:\n"
     ]
    }
   ],
   "source": [
    "x=[]\n",
    "y=[]\n",
    "a=[11,21,10,22,42,19]\n",
    "b=(len(a)//2)\n",
    "c=a[0:b]\n",
    "d=a[b:]\n",
    "for i in c:\n",
    "    e=str(i)\n",
    "    f=e[0]\n",
    "    x.append(f)\n",
    "g=''.join(x)\n",
    "print(g)\n",
    "for j in d:\n",
    "    h=str(j)\n",
    "    i=h[-1]\n",
    "    y=y+[i]\n",
    "j=''.join(y)\n",
    "print(j)\n",
    "if int(g)%11==0:\n",
    "    print(\"Yes First half is devisible by 11:\")\n",
    "else:\n",
    "    print(\"No First half is devisible by 11:\")\n",
    "if int(j)%11==0:\n",
    "    print(\"Yes Second half is devisible by 11:\")\n",
    "else:\n",
    "    print(\"No Second half is devisible by 11:\")"
   ]
  }
 ],
 "metadata": {
  "kernelspec": {
   "display_name": "Python 3 (ipykernel)",
   "language": "python",
   "name": "python3"
  },
  "language_info": {
   "codemirror_mode": {
    "name": "ipython",
    "version": 3
   },
   "file_extension": ".py",
   "mimetype": "text/x-python",
   "name": "python",
   "nbconvert_exporter": "python",
   "pygments_lexer": "ipython3",
   "version": "3.9.12"
  }
 },
 "nbformat": 4,
 "nbformat_minor": 5
}
